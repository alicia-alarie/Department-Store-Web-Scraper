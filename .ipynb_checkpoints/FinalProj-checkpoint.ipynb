{
 "cells": [
  {
   "cell_type": "code",
   "execution_count": 1,
   "metadata": {},
   "outputs": [],
   "source": [
    "import numpy as np\n",
    "import re\n",
    "import requests\n",
    "import requests_ftp\n",
    "import requests_cache\n",
    "import lxml\n",
    "from bs4 import BeautifulSoup\n",
    "from collections import Counter\n",
    "from matplotlib import pyplot as plt\n",
    "plt.style.use('ggplot')\n",
    "import pandas as pd\n",
    "requests_cache.install_cache('coll_cache')\n",
    "import sqlalchemy as sqla"
   ]
  },
  {
   "cell_type": "markdown",
   "metadata": {},
   "source": [
    "Mens and Womens Average Price of Jeans"
   ]
  },
  {
   "cell_type": "code",
   "execution_count": 11,
   "metadata": {},
   "outputs": [
    {
     "name": "stdout",
     "output_type": "stream",
     "text": [
      "mens mean price:  169.25766871165644\n",
      "womens mean price: 159.44949494949495\n"
     ]
    },
    {
     "data": {
      "text/plain": [
       "<function matplotlib.pyplot.show(*args, **kw)>"
      ]
     },
     "execution_count": 11,
     "metadata": {},
     "output_type": "execute_result"
    },
    {
     "data": {
      "image/png": "[encoded data removed]",
      "text/plain": [
       "<Figure size 432x288 with 1 Axes>"
      ]
     },
     "metadata": {
      "needs_background": "light"
     },
     "output_type": "display_data"
    }
   ],
   "source": [
    "sqlite_file = 'retail.sqlite'\n",
    "retail = sqla.create_engine('sqlite:///' + sqlite_file)\n",
    "sqlite_file = 'menretail.sqlite'\n",
    "menretail = sqla.create_engine('sqlite:///' + sqlite_file)\n",
    "\n",
    "retaildb=pd.read_sql_query(\"select * from retail\",retail)\n",
    "mretaildb=pd.read_sql_query(\"select * from menretail\",menretail)\n",
    "retaildb[retaildb==0]=np.nan\n",
    "mretaildb[mretaildb==0]=np.nan\n",
    "print('mens mean price: ', np.mean(mretaildb.price))\n",
    "print('womens mean price:', np.mean(retaildb.price))\n",
    "\n",
    "plt.boxplot([mretaildb.price, retaildb.price])\n",
    "plt.xlabel('Mens                            Womens')\n",
    "plt.ylabel('Price (USD)')\n",
    "plt.show\n"
   ]
  },
  {
   "cell_type": "markdown",
   "metadata": {},
   "source": [
    "## Questions to Answer\n",
    "-Which brands have a relative pink tax? (7, \n",
    "\n",
    "-which clothing types are most differently priced for men and women (just for 7)\n",
    "\n",
    "-how do the sizes of the models for men and women compare to the average man/woman size (including Lane Bryant or other plus retailer)?\n",
    "\n",
    "-Is the area of the clothing correlated to price (estimate area via inseam and rise measurements)? (7)\n",
    "\n",
    "-most common terms for describing mens andd womens products\n",
    "\n",
    "-comparing brand profiles - sizes they sell, price for similar items\n",
    "\n",
    "-size, material, price 3 aesthetic mapping\n",
    "\n",
    "-clustering with wordtovec and descriptions\n",
    "\n",
    "-organize by question \n"
   ]
  },
  {
   "cell_type": "code",
   "execution_count": null,
   "metadata": {},
   "outputs": [],
   "source": []
  }
 ],
 "metadata": {
  "kernelspec": {
   "display_name": "Python 3",
   "language": "python",
   "name": "python3"
  },
  "language_info": {
   "codemirror_mode": {
    "name": "ipython",
    "version": 3
   },
   "file_extension": ".py",
   "mimetype": "text/x-python",
   "name": "python",
   "nbconvert_exporter": "python",
   "pygments_lexer": "ipython3",
   "version": "3.7.4"
  }
 },
 "nbformat": 4,
 "nbformat_minor": 2
}
